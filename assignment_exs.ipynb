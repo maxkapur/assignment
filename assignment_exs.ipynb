{
 "cells": [
  {
   "cell_type": "markdown",
   "metadata": {},
   "source": [
    "# Usage examples for `assignment` module\n",
    "\n",
    "This module provides a lightweight implementation of the Gale-Shapley stable assignment (proposal) algorithm and a few tools for exploring the stable assignment polytope, including a modified implementation of the optimal stable marriage algorithm described by in the following reference:\n",
    "\n",
    "- Irving, Robert W., Paul Leather, and Dan Gusfield. 1987. &ldquo;An Efficient Algorithm for the &lsquo;Optimal&rsquo; Stable Marriage.&rdquo; *Journal of the Association for Computing Machinery* 34, no. 3 (July): 532&ndash;43."
   ]
  },
  {
   "cell_type": "code",
   "execution_count": 1,
   "metadata": {},
   "outputs": [],
   "source": [
    "from assignment import *\n",
    "%store -r"
   ]
  },
  {
   "cell_type": "markdown",
   "metadata": {},
   "source": [
    "## One-to-one assignment examples\n",
    "\n",
    "### Small example\n",
    "\n",
    "This is the example used in the discussion notebook."
   ]
  },
  {
   "cell_type": "code",
   "execution_count": 2,
   "metadata": {},
   "outputs": [
    {
     "data": {
      "text/plain": [
       "Text(0.5, 1.0, 'Rotation flow graph')"
      ]
     },
     "execution_count": 2,
     "metadata": {},
     "output_type": "execute_result"
    },
    {
     "data": {
      "image/png": "[encoded data removed]",
      "text/plain": [
       "<Figure size 432x288 with 2 Axes>"
      ]
     },
     "metadata": {},
     "output_type": "display_data"
    },
    {
     "data": {
      "image/png": "[encoded data removed]",
      "text/plain": [
       "<Figure size 432x288 with 1 Axes>"
      ]
     },
     "metadata": {},
     "output_type": "display_data"
    }
   ],
   "source": [
    "candidates = [[1, 3, 0, 2], [1, 2, 3, 0], [0, 2, 3, 1], [0, 3, 1, 2]]\n",
    "reviewers = [[1, 0, 3, 2], [3, 1, 0, 2], [0, 1, 2, 3], [2, 3, 1, 0]]\n",
    "\n",
    "assn_inst = assignment(candidates, reviewers)\n",
    "\n",
    "viz_prefs(candidates, reviewers)\n",
    "\n",
    "assn_inst.draw_rotation_digraph()\n",
    "plt.title(\"Rotation flow graph\", size=16)"
   ]
  },
  {
   "cell_type": "code",
   "execution_count": 3,
   "metadata": {},
   "outputs": [
    {
     "name": "stdout",
     "output_type": "stream",
     "text": [
      "Generating shortlists\n",
      "Reduced candidate lists:\n",
      "[[1, 3, 0, 2], [1, 2, 3, 0], [0, 2, 3, 1], [0, 3, 1, 2]]\n",
      "Results of round 0:\n",
      "  Candidate 2 proposed to reviewer 0\n",
      "  Candidate 3 proposed to reviewer 0\n",
      "    Reviewer 0 rejected candidate 2\n",
      "  Candidate 0 proposed to reviewer 1\n",
      "  Candidate 1 proposed to reviewer 1\n",
      "    Reviewer 1 rejected candidate 0\n",
      "Reduced candidate lists:\n",
      "[[3, 0, 2], [1, 2, 3, 0], [2, 3, 1], [0, 3, 1, 2]]\n",
      "Results of round 1:\n",
      "  Candidate 3 proposed to reviewer 0\n",
      "  Candidate 1 proposed to reviewer 1\n",
      "  Candidate 2 proposed to reviewer 2\n",
      "  Candidate 0 proposed to reviewer 3\n",
      "\n",
      "Finding rotations\n",
      "C0's second choice is R0, currently matched with C3\n",
      "C3's second choice is R3, currently matched with C0\n",
      "  Found a rotation involving candidates [0, 3]\n",
      "C1's second choice is R2, currently matched with C2\n",
      "C2's second choice is R3, currently matched with C0\n",
      "\n",
      "Eliminating rotations\n",
      "  Eliminating rotation [0, 3], weight 1\n",
      "\n",
      "Shortlists after eliminating rotations at depth 0\n",
      "[[0, 2], [1, 2, 0], [2, 3], [3, 1]]\n",
      "[[1, 0], [3, 1], [0, 1, 2], [2, 3]]\n",
      "\n",
      "Finding rotations\n",
      "C0's second choice is R2, currently matched with C2\n",
      "C2's second choice is R3, currently matched with C3\n",
      "C3's second choice is R1, currently matched with C1\n",
      "C1's second choice is R2, currently matched with C2\n",
      "  Found a rotation involving candidates [2, 3, 1]\n",
      "\n",
      "Eliminating rotations\n",
      "  Eliminating rotation [2, 3, 1], weight 0\n",
      "\n",
      "Shortlists after eliminating rotations at depth 1\n",
      "[[0, 2], [2, 0], [3], [1]]\n",
      "[[1, 0], [3], [0, 1], [2]]\n",
      "\n",
      "Finding rotations\n",
      "C0's second choice is R2, currently matched with C1\n",
      "C1's second choice is R0, currently matched with C0\n",
      "  Found a rotation involving candidates [0, 1]\n",
      "\n",
      "Eliminating rotations\n",
      "  Eliminating rotation [0, 1], weight -1\n",
      "\n",
      "Shortlists after eliminating rotations at depth 2\n",
      "[[2], [0], [3], [1]]\n",
      "[[1], [3], [0], [2]]\n",
      "\n",
      "Finding rotations\n",
      "\n",
      "Discovering edges\n",
      "New edge from 0 to 1 (rule 1)\n",
      "New edge from 1 to 2 (rule 1)\n",
      "\n",
      "Optimizing over rotation set\n",
      " complete: False\n",
      "      con: array([], dtype=float64)\n",
      "      fun: 0.0\n",
      "  message: ''\n",
      "      nit: 0\n",
      "    phase: 1\n",
      "    slack: array([0., 0.])\n",
      "   status: 0\n",
      "  success: False\n",
      "        x: array([0., 0., 0.])\n",
      " complete: False\n",
      "      con: array([], dtype=float64)\n",
      "      fun: 0.0\n",
      "  message: ''\n",
      "      nit: 1\n",
      "    phase: 1\n",
      "    slack: array([0., 0.])\n",
      "   status: 0\n",
      "  success: False\n",
      "        x: array([0., 0., 0.])\n",
      " complete: False\n",
      "      con: array([], dtype=float64)\n",
      "      fun: 0.0\n",
      "  message: ''\n",
      "      nit: 2\n",
      "    phase: 1\n",
      "    slack: array([0., 0.])\n",
      "   status: 0\n",
      "  success: False\n",
      "        x: array([0., 0., 0.])\n",
      " complete: False\n",
      "      con: array([], dtype=float64)\n",
      "      fun: 0.0\n",
      "  message: ''\n",
      "      nit: 3\n",
      "    phase: 1\n",
      "    slack: array([0., 0.])\n",
      "   status: 0\n",
      "  success: False\n",
      "        x: array([1., 1., 1.])\n",
      " complete: False\n",
      "      con: array([], dtype=float64)\n",
      "      fun: 0.0\n",
      "  message: ''\n",
      "      nit: 4\n",
      "    phase: 1\n",
      "    slack: array([0., 0.])\n",
      "   status: 0\n",
      "  success: False\n",
      "        x: array([1., 1., 1.])\n",
      " complete: True\n",
      "      con: array([], dtype=float64)\n",
      "      fun: 0.0\n",
      "  message: ''\n",
      "      nit: 5\n",
      "    phase: 1\n",
      "    slack: array([0., 0.])\n",
      "   status: 0\n",
      "  success: True\n",
      "        x: array([1., 1., 1.])\n",
      " complete: False\n",
      "      con: array([], dtype=float64)\n",
      "      fun: 0.0\n",
      "  message: ''\n",
      "      nit: 5\n",
      "    phase: 2\n",
      "    slack: array([0., 0.])\n",
      "   status: 0\n",
      "  success: False\n",
      "        x: array([1., 1., 1.])\n",
      " complete: False\n",
      "      con: array([], dtype=float64)\n",
      "      fun: -1.0\n",
      "  message: ''\n",
      "      nit: 6\n",
      "    phase: 2\n",
      "    slack: array([0., 1.])\n",
      "   status: 0\n",
      "  success: False\n",
      "        x: array([1., 1., 0.])\n",
      " complete: True\n",
      "      con: array([], dtype=float64)\n",
      "      fun: -1.0\n",
      "  message: ''\n",
      "      nit: 7\n",
      "    phase: 2\n",
      "    slack: array([0., 1.])\n",
      "   status: 0\n",
      "  success: True\n",
      "        x: array([1., 1., 0.])\n"
     ]
    },
    {
     "data": {
      "text/plain": [
       "([(0, 1), (1, 3), (2, 0), (3, 2)], array([ True, False, False]))"
      ]
     },
     "execution_count": 3,
     "metadata": {},
     "output_type": "execute_result"
    }
   ],
   "source": [
    "# The optimal stable assignment and verbose solution\n",
    "assn_inst.osa(verbose=True)"
   ]
  },
  {
   "cell_type": "markdown",
   "metadata": {},
   "source": [
    "## Multiple assignment examples\n",
    "\n",
    "We can use the Gale-Shapley algorithm to find stable matchings in many-to-one and one-to-many assignment problems, too. However, the Irving et al. algorithm for rotation through stable matchings cannot be used in this case, as eliminating the rotations may violate the stability conditions (Baïou and Balinski, 2000).\n",
    "\n"
   ]
  },
  {
   "cell_type": "code",
   "execution_count": 4,
   "metadata": {},
   "outputs": [
    {
     "name": "stdout",
     "output_type": "stream",
     "text": [
      "([(0, 0), (0, 3), (1, 2), (1, 1), (2, 4), (3, 5)], [[0, 3], [2, 1], [4], [5], []])\n",
      "([(0, 0), (1, 1), (2, 1), (3, 0), (4, 2), (5, 3)], [[0, 1, 4, 3], [1, 4, 3, 0, 2], [1, 4, 3], [0, 1, 3], [2, 1, 3, 4], [3]])\n"
     ]
    }
   ],
   "source": [
    "# Universities with fixed quotas propose to applicants (one-to-many)\n",
    "applicants = [[0,1,4,3],[1,4,3,0,2,],[1,4,3],[0,1,3],[0,2,1,3,4],[0,1,3]]\n",
    "universities = [[0,1,2,3],\n",
    "                [0,2,1],\n",
    "                [0,1,2,3,4,5],\n",
    "                [1,0,3,2,4,5],\n",
    "                [0,1,2,3]]\n",
    "\n",
    "university_capacities = [2, 2, 4, 4, 3]\n",
    "\n",
    "admissions = assignment(applicants, universities, reviewer_capacity=university_capacities)\n",
    "print(admissions.GaleShapley(reverse=True))\n",
    "\n",
    "# Applicants propose to universities with fixed quotas (many-to-one)\n",
    "print(admissions.GaleShapley())"
   ]
  },
  {
   "cell_type": "markdown",
   "metadata": {},
   "source": [
    "## Behavior when no rotations are present"
   ]
  },
  {
   "cell_type": "code",
   "execution_count": 5,
   "metadata": {},
   "outputs": [
    {
     "name": "stdout",
     "output_type": "stream",
     "text": [
      "([(0, 0), (1, 1), (4, 3)], [[0, 1, 2], [1, 3], [], [], [3]])\n",
      "([(0, 0), (1, 1), (3, 4)], [[0, 1, 2, 4, 3], [1, 4], [], [4]])\n"
     ]
    },
    {
     "data": {
      "text/plain": [
       "[[], [], [], [], []]"
      ]
     },
     "execution_count": 5,
     "metadata": {},
     "output_type": "execute_result"
    }
   ],
   "source": [
    "# Men propose to women (one-to-one)\n",
    "# Contains only one stable matching\n",
    "men = [[0, 1, 2],\n",
    "       [0, 1, 3],\n",
    "       [1, 0, ],\n",
    "       [0, 1],\n",
    "       [1, 0, 3]]\n",
    "women = [[0, 1, 2, 4, 3],\n",
    "         [0, 1, 4,],\n",
    "         [0, 2, 1, 3],\n",
    "         [1, 0, 4]]\n",
    "\n",
    "proposal = assignment(men, women)\n",
    "print(proposal.GaleShapley())\n",
    "print(proposal.GaleShapley(reverse=True))\n",
    "\n",
    "# Empty output expected\n",
    "proposal.rotation_digraph()"
   ]
  },
  {
   "cell_type": "code",
   "execution_count": 6,
   "metadata": {},
   "outputs": [
    {
     "data": {
      "text/plain": [
       "[[], [], [], [], []]"
      ]
     },
     "execution_count": 6,
     "metadata": {},
     "output_type": "execute_result"
    }
   ],
   "source": [
    "applicants = [[11, 12, 10, 8, 9, 7, 6, 5, 4, 3, 2, 1, 0],\n",
    "              [11, 10, 12, 9, 6, 8, 7, 5, 1, 4, 3, 2, 0],\n",
    "              [12, 10, 9, 11, 8, 7, 6, 5, 4, 1, 0, 3, 2],\n",
    "              [11, 12, 9, 10, 8, 6, 7, 5, 2, 4, 3, 1, 0],\n",
    "              [11, 12, 10, 9, 7, 6, 8, 5, 4, 2, 1, 3, 0],\n",
    "              [9, 11, 12, 10, 8, 7, 6, 5, 4, 3, 2, 1, 0],\n",
    "              [12, 9, 10, 11, 7, 8, 6, 5, 2, 1, 0, 4, 3],\n",
    "              [12, 11, 9, 10, 8, 7, 6, 5, 1, 4, 3, 2, 0],\n",
    "              [12, 11, 10, 9, 7, 8, 6, 5, 3, 2, 4, 1, 0]]\n",
    "\n",
    "firms = [[0,2,8,3,4,7,1,6,5],\n",
    "         [2,0,8,4,7,3,6,1,5],\n",
    "         [0,8,2,4,1,3,7,5,6],\n",
    "         [2,3,0,7,8,4,5,6,1],\n",
    "         [0,2,3,8,4,1,7,5],\n",
    "         [0,2,8,4,3,1,5],\n",
    "         [2,0,3,8,1],\n",
    "         [0,2,1,4],\n",
    "         [0,2,4],\n",
    "         [0,2],\n",
    "         [2,4],\n",
    "         [0,2],\n",
    "         [2,0]]\n",
    "\n",
    "hiring = assignment(applicants, firms)\n",
    "\n",
    "# Empty output expected\n",
    "hiring.rotation_digraph()"
   ]
  },
  {
   "cell_type": "code",
   "execution_count": null,
   "metadata": {},
   "outputs": [],
   "source": [
    "!jupyter nbconvert --to html assignment_exs.ipynb"
   ]
  }
 ],
 "metadata": {
  "kernelspec": {
   "display_name": "Python 3",
   "language": "python",
   "name": "python3"
  },
  "language_info": {
   "codemirror_mode": {
    "name": "ipython",
    "version": 3
   },
   "file_extension": ".py",
   "mimetype": "text/x-python",
   "name": "python",
   "nbconvert_exporter": "python",
   "pygments_lexer": "ipython3",
   "version": "3.7.3"
  }
 },
 "nbformat": 4,
 "nbformat_minor": 4
}
