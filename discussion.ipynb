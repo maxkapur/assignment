{
 "cells": [
  {
   "cell_type": "markdown",
   "metadata": {},
   "source": [
    "# In search of the optimal stable marriage"
   ]
  },
  {
   "cell_type": "code",
   "execution_count": 1,
   "metadata": {},
   "outputs": [],
   "source": [
    "from assignment import *\n",
    "%store -r "
   ]
  },
  {
   "cell_type": "markdown",
   "metadata": {},
   "source": [
    "## Background\n",
    "### One-to-one assignment problems and stable assignment\n",
    "\n",
    "A one-to-one assignment problem involves a set of two groups, *candidates* and *reviewers,* each of whom has ranked the members of the other group on the basis of how much they would like to be paired together. An *assignment* is a set of pairs $a_k = (i_k, j_k)$ consisting of one candidate $i$ and one reviewer $j$ such that no candidate or reviewer is assigned to more than one partner.\n",
    "\n",
    "Our goal is to find an assignment that is mutually acceptable to both parties. In the classical formulation, the groups are *men* and *women* to be married, and we seek a *stable assignment,* meaning one in which no member of either group is incentivized to cheat on their partner. Such an incentive is provided when an assignment fails to include one or more *blocking pairs,* pairings that both parties prefer to the partner currently assigned to them.\n",
    "\n",
    "For example, in the following example, candidate 1&rsquo;s first choice is reviewer 1, while reviewer 1&rsquo;s second choice is candidate 1. If an assignment contains the pairs $(1, 2)$ and $(0, 1)$, then candidate 1 and reviewer 1 each prefer to be together than with their current assignment: $(1, 1)$ is a blocking pair, and the assignment is unstable."
   ]
  },
  {
   "cell_type": "code",
   "execution_count": 2,
   "metadata": {},
   "outputs": [
    {
     "data": {
      "text/plain": [
       "(<Figure size 432x288 with 2 Axes>,\n",
       " array([<matplotlib.axes._subplots.AxesSubplot object at 0x000001B1293A5748>,\n",
       "        <matplotlib.axes._subplots.AxesSubplot object at 0x000001B12C18C358>],\n",
       "       dtype=object))"
      ]
     },
     "execution_count": 2,
     "metadata": {},
     "output_type": "execute_result"
    },
    {
     "data": {
      "image/png": "[encoded data removed]",
      "text/plain": [
       "<Figure size 432x288 with 2 Axes>"
      ]
     },
     "metadata": {},
     "output_type": "display_data"
    }
   ],
   "source": [
    "candidates = [[1, 3, 0, 2], [1, 2, 3, 0], [0, 2, 3, 1], [0, 3, 1, 2]]\n",
    "reviewers = [[1, 0, 3, 2], [3, 1, 0, 2], [0, 1, 2, 3], [2, 3, 1, 0]]\n",
    "\n",
    "assn_inst = assignment(candidates, reviewers)\n",
    "viz_prefs(candidates, reviewers, kwargs={'figsize': (6, 4)})"
   ]
  },
  {
   "cell_type": "markdown",
   "metadata": {},
   "source": [
    "### The proposal algorithm\n",
    "\n",
    "It can be shown that the Gale-Shapely, or *proposal,* algorithm produces a stable assignment. The algorithm works as follows:\n",
    "\n",
    "1. At the beginning of each round, each candidate proposes to the reviewer at the top of their list.\n",
    "2. The reviewers examine the proposals they received. If they received proposals from multiple candidates, they reject all but the one most favorable to them.\n",
    "3. The rejected candidates remove the reviewers who rejected them from their list.\n",
    "\n",
    "This procedure is repeated until no rejections occur; then the set of pairs $(i,j)$ where $j$ is the reviewer highest on $i$&rsquo;s reduced list forms a stable assignment.\n",
    "\n",
    "The proposal algorithm possesses several desirable properties. First, since at least one rejection occurs in every round, and no rejection can occur more than once, the algorithm is guaranteed to terminate in at most $n^2$ iterations ($nm$ when there are different numbers of candidates and reviewers).\n",
    "\n",
    "Second, the proposal algorithm can be used without modification when there are different numbers of candidates and reviewers. It can also be used unmodified if each candidate ranks only the subset of reviewers they find acceptable (or vice-versa), signifying that they would rather be assigned to no partner (remain celibate) than be assigned to one of the participants they omitted.\n",
    "\n",
    "With slight modifications to steps 1 and 2 above, the algorithm can also perform many-to-one or one-to-many assignment; however, the resultant assignments are not necessarily stable (Baïou and Balinski 2000).\n",
    "\n",
    "Let&rsquo;s apply the proposal algorithm to the example above."
   ]
  },
  {
   "cell_type": "code",
   "execution_count": 3,
   "metadata": {},
   "outputs": [
    {
     "name": "stdout",
     "output_type": "stream",
     "text": [
      "Reduced candidate lists:\n",
      "[[1, 3, 0, 2], [1, 2, 3, 0], [0, 2, 3, 1], [0, 3, 1, 2]]\n",
      "Results of round 0:\n",
      "  Candidate 2 proposed to reviewer 0\n",
      "  Candidate 3 proposed to reviewer 0\n",
      "    Reviewer 0 rejected candidate 2\n",
      "  Candidate 0 proposed to reviewer 1\n",
      "  Candidate 1 proposed to reviewer 1\n",
      "    Reviewer 1 rejected candidate 0\n",
      "Reduced candidate lists:\n",
      "[[3, 0, 2], [1, 2, 3, 0], [2, 3, 1], [0, 3, 1, 2]]\n",
      "Results of round 1:\n",
      "  Candidate 3 proposed to reviewer 0\n",
      "  Candidate 1 proposed to reviewer 1\n",
      "  Candidate 2 proposed to reviewer 2\n",
      "  Candidate 0 proposed to reviewer 3\n"
     ]
    },
    {
     "data": {
      "text/plain": [
       "([(0, 3), (1, 1), (2, 2), (3, 0)],\n",
       " [[3, 0, 2], [1, 2, 3, 0], [2, 3, 1], [0, 3, 1, 2]])"
      ]
     },
     "execution_count": 3,
     "metadata": {},
     "output_type": "execute_result"
    }
   ],
   "source": [
    "assn_inst.GaleShapley(verbose=True)"
   ]
  },
  {
   "cell_type": "markdown",
   "metadata": {},
   "source": [
    "This stable assignment contains the pairs $(0, 3), (1, 1), (2, 2),$ and $(3, 0)$. We can compute the *cost* of this assignment by adding the ranks associated with each pairing. Candidate 0 is paired with reviewer 3, who he has ranked 1 (in Python&rsquo;s zero-based indexing format). Reviewer 3 has ranked candidate 0 at the top of her list, rank 0. Thus the cost associated with the pair $(0,3)$ is $1+0 = 1$. Summing the costs for each pair in the overall assignment yields the overall cost; lower is better, and if everyone is assigned to their &ldquo;perfect match,&rdquo; the overall cost is zero.\n",
    "\n",
    "In our example, the cost associated with candidate-optimal stable assignment is 10, and the cost associated with the reviewer-optimal stable assignment is also 10 (a coincidence)."
   ]
  },
  {
   "cell_type": "code",
   "execution_count": 4,
   "metadata": {},
   "outputs": [
    {
     "data": {
      "text/plain": [
       "(10, 10)"
      ]
     },
     "execution_count": 4,
     "metadata": {},
     "output_type": "execute_result"
    }
   ],
   "source": [
    "assn_inst.cost(), assn_inst.cost(reverse=True)"
   ]
  },
  {
   "cell_type": "markdown",
   "metadata": {},
   "source": [
    "## Exploring the set of stable assignments\n",
    "\n",
    "### Candidate- and reviewer-optimal assignments\n",
    "\n",
    "The proposal algorithm finds only one stable assignment, and it can be shown that the one it finds is *candidate optimal*&mdash;that is, any assignment that pairs a candidate with a reviewer ranked higher in their list than the candidate assigned by the proposal algorithm is an unstable assignment. Moreover, it can be shown that the candidate-optimal assignment is *reviewer pessimal:* if another stable assignment exists in the problem, it will provide more-preferable partners to some or all of the reviewers.\n",
    "\n",
    "A reviewer-optimal (and candidate-pessimal) assignment can be found by interchanging the roles of the candidates and reviewers and running the algorithm again, like so:"
   ]
  },
  {
   "cell_type": "code",
   "execution_count": null,
   "metadata": {},
   "outputs": [],
   "source": [
    "assn_inst.GaleShapley(reverse=True, verbose=True)"
   ]
  },
  {
   "cell_type": "markdown",
   "metadata": {},
   "source": [
    "### The rotation algorithm\n",
    "\n",
    "Some assignment problems admit only one stable assignment, in which case the proposal algorithm yields the same results when reversed. However, this particular assignment problem contains distinct candidate- and reviewer-optimal solutions, along with two *additional* stable solutions, which we can find using the *rotation algorithm* (Irving et al. 1987). \n",
    "\n",
    "The rotation algorithm begins by taking the reduced preference lists produced by the (candidate-led) proposal algorithm, and applying the observation that these preferences are reviewer pessimal to produce (candidate-oriented) *shortlists.* From each reviewer&rsquo;s perspective, the candidate assigned by the proposal algorithm is the worst they should ever have to settle for; thus, we can cross off any candidates from the reviewers&rsquo; lists who are worse than their proposal assignment. Likewise, we can remove those reviewers where they appear in the lists of the candidates they cross off.\n",
    "\n",
    "The shortlists for our example are as follows. Notice that both the candidates&rsquo; and reviewers&rsquo; lists are reduced."
   ]
  },
  {
   "cell_type": "code",
   "execution_count": null,
   "metadata": {},
   "outputs": [],
   "source": [
    "assn_inst.shortlists()"
   ]
  },
  {
   "cell_type": "code",
   "execution_count": null,
   "metadata": {},
   "outputs": [],
   "source": [
    "candidates, reviewers"
   ]
  },
  {
   "cell_type": "markdown",
   "metadata": {},
   "source": [
    "Let&rsquo;s examine the shortlists corresponding to candidates 0 and 3. 0&rsquo;s list is $[3,0,2]$ and 1&rsquo;s list is $[0,3,1]$. If we reassign candidate 0 to reviewer 0, and candidate 3 to reviewer 3, we can produce a new assignment. And this new assignment remains stable, because reviewer 0 prefers candidate 0 to candidate 3, and reviewer 3 prefers candidate 3 to candidate 0 (or else we crossed those candidates off when we created the shortlists). Thus, candidates 0 and 3 are members of a *rotation,* and when we *eliminate* that rotation by performing the reassignment described above, we produce a new stable assignment that is marginally more appealing to the reviewers and marginally less appealing to the candidates.\n",
    "\n",
    "The net marginal cost is relatively easy to calculate: add the differences in ranks between the members of the rotation before and after elimination. Here, reassigning candidate 0 to reviewer 0 changes candidate 0&rsquo;s cost from 1 to 2, and reviewer 0&rsquo;s cost from 2 to 1. Reassigning candidate 3 to reviewer 3 changes candidate 3&rsquo;s cost from 0 to 1, and reviewer 3&rsquo;s cost from 3 to 1. The net decrease in cost, or the *weight* of the rotation, is\n",
    "\n",
    "$$-\\left[(2-1)+(1-2)+(1-0)+(1-3)\\right] = 1$$\n",
    "\n",
    "and the total cost of the assignment after eliminating this rotation decreases from 10 to 9.\n",
    "\n",
    "After searching for rotations in this set of shortlists, we can eliminate all the rotations we find and produce a new set of shortlists. It may contain yet further rotations. We continue searching and eliminating until no rotations remain; at the end of this process, we arrive at the candidate-pessimal assignment, which is identical to the assignment produced by running the proposal algorithm in reverse."
   ]
  },
  {
   "cell_type": "code",
   "execution_count": null,
   "metadata": {},
   "outputs": [],
   "source": [
    "assn_inst.rotate(verbose=True)"
   ]
  },
  {
   "cell_type": "code",
   "execution_count": null,
   "metadata": {},
   "outputs": [],
   "source": [
    "assn_inst.shortlists_internal"
   ]
  },
  {
   "cell_type": "markdown",
   "metadata": {},
   "source": [
    "Not every combination of rotations corresponds to a stable assignment, as some rotations depend on others. We can represent the rotation dependencies using a directed graph. By using this graph to traverse the set of stable assignments, we can model the optimal stable assignment as a maximum-flow problem or linear program.\n",
    "\n",
    "In our example, the dependencies among the rotations are as follows. Each node corresponds to a rotation, and its label indicates its weight. "
   ]
  },
  {
   "cell_type": "code",
   "execution_count": null,
   "metadata": {},
   "outputs": [],
   "source": [
    "assn_inst.draw_rotation_digraph(augment=False, opt=False, kwargs={'figsize': (9, 6)})"
   ]
  },
  {
   "cell_type": "markdown",
   "metadata": {},
   "source": [
    "One solution method for the optimal stable assignment works by augmenting the rotation dependency graph and applying a maximum-flow procedure (Irving et al. 1987). However, this method requires adding additional edges for each of the nonzero rotations, which yields an $O(n^2)$ increase in computation time. Further, Irving et al.&rsquo;s augmentation method sometimes produces graphs with no feasible paths even when the candidate-optimal solution is inoptimal overall; our example happens to be one such degenerate case. \n",
    "\n",
    "## Efficient solution via linear programming\n",
    "\n",
    "I approach solving for the optimal stable assignment as a simple linear programming (LP) problem rather than using the maximum-flow procedure.\n",
    "\n",
    "Let $x_i \\in \\lbrace 0, 1 \\rbrace$ indicate whether rotation $i$ is included in the solution. We seek to maximize the total weight of the rotations we include, namely $1 x_0 + 0 x_1 - 1 x_2$.\n",
    "\n",
    "By inspecting the directed graph above, we can see that if rotation 2 (on the right) is included, so must rotation 1, and by transitivity rotation 1. This can be expressed by the inequalites $x_2 - x_1 \\leq 0$ and $x_1-x_0 \\leq 0$.\n",
    "\n",
    "In general, the LP is formulated as follows.\n",
    "\n",
    "$$\n",
    "\\begin{align}\n",
    "\\max \\quad & c^T x \\\\\n",
    "\\text{s.t.} \\quad & x_j - x_i \\leq 0, & \\forall(i,j) \\in \\mathcal{A} \\\\\n",
    " & 0 \\leq x \\leq 1\n",
    "\\end{align}\n",
    "$$\n",
    "\n",
    "Here $c$ is the vector of rotation weights and $\\mathcal{A}$ is the set of directed edges in the rotation graph. Specifying these bounds on $x$ is sufficient to guarantee an integral solution because the constraint matrix in this problem is [totally unimodular](https://en.wikipedia.org/wiki/Unimodular_matrix#Total_unimodularity).\n",
    "\n",
    "Running a standard LP solver on this example yields $x = (1, 0, 0)$, with a 1-unit decrease in cost compared to the candidate-optimal solution. This means we should eliminate the 0th rotation, whose members were $(0, 3)$ and $(3, 0)$. "
   ]
  },
  {
   "cell_type": "code",
   "execution_count": null,
   "metadata": {},
   "outputs": [],
   "source": [
    "assn_inst.draw_rotation_digraph(kwargs={'figsize': (9, 6)})"
   ]
  },
  {
   "cell_type": "markdown",
   "metadata": {},
   "source": [
    "The optimal assignment, after eliminating the 0th rotation from the shortlists, is $(0, 1), (1, 3), (2, 0), (3, 2)$.\n",
    "\n",
    "## Two more examples\n",
    "\n",
    "Here is the example provided in Irving et al.'s original paper (1987, 535). It contains many rotations. For proof of concept, I provide the normal and reverse forms of the rotation graph; notice that they are each mirror images of the other. The optimal solutions will also complement each other if they are unique, but in this case there are multiple optimal solutions, so they appear different."
   ]
  },
  {
   "cell_type": "code",
   "execution_count": null,
   "metadata": {},
   "outputs": [],
   "source": [
    "men = (np.array([3,1,5,7,4,2,8,6,\n",
    "                 6,1,3,4,8,7,5,2,\n",
    "                 7,4,3,6,5,1,2,8,\n",
    "                 5,3,8,2,6,1,4,7,\n",
    "                 4,1,2,8,7,3,6,5,\n",
    "                 6,2,5,7,8,4,3,1,\n",
    "                 7,8,1,6,2,3,4,5,\n",
    "                 2,6,7,1,8,3,4,5]).reshape(8,8) - 1).tolist()\n",
    "women = (np.array([4,3,8,1,2,5,7,6,\n",
    "                   3,7,5,8,6,4,1,2,\n",
    "                   7,5,8,3,6,2,1,4,\n",
    "                   6,4,2,7,3,1,5,8,\n",
    "                   8,7,1,5,6,4,3,2,\n",
    "                   5,4,7,6,2,8,3,1,\n",
    "                   1,4,5,6,2,8,3,7,\n",
    "                   2,5,4,3,7,8,1,6]).reshape(8,8) - 1).tolist()\n",
    "marriage_i = assignment(men, women)\n",
    "\n",
    "viz_prefs(men, women, {'figsize': (9, 6)})\n",
    "plt.savefig(\"exs/viz_prefs.png\")\n",
    "\n",
    "marriage_i.draw_rotation_digraph(kwargs={\"figsize\": (9, 6)})\n",
    "plt.title(\"Rotation flow graph\", size=16)\n",
    "plt.savefig(\"exs/rot_digraph.png\")\n",
    "\n",
    "marriage_i.draw_rotation_digraph(reverse=True, kwargs={\"figsize\": (9, 6)})\n",
    "plt.title(\"Rotation flow graph (reverse Gale-Shapley)\", size=16)"
   ]
  },
  {
   "cell_type": "markdown",
   "metadata": {},
   "source": [
    "Irving et al.&rsquo;s example is unusual in two ways. First, for a 9-by-9 problem, it contains an unusually high number of rotations (and therefore stable assignments). My example is also a uniquely robust case; I found it by iterating over many 4-by-4 examples until I found one with a large solution.\n",
    "\n",
    "Second, the rotations included in the optimal solution Irving et al.&rsquo;s are drawn &ldquo;randomly&rdquo; from various layers of the rotation dependency graph. A more typical problem has the nodes with positive weights concentrated on the left side of the graph; the optimal solution simply includes all of the positive nodes. \n",
    "\n",
    "Here is a typical example of medium scale (60 by 60): "
   ]
  },
  {
   "cell_type": "code",
   "execution_count": null,
   "metadata": {},
   "outputs": [],
   "source": [
    "np.random.seed(3454)\n",
    "\n",
    "m = 60\n",
    "n = 60\n",
    "\n",
    "A = [list(np.random.permutation(range(n)))[:np.random.randint(n-3, n)] for _ in range(m)]\n",
    "B = [list(np.random.permutation(range(m)))[:np.random.randint(m-3, m)] for _ in range(n)] \n",
    "\n",
    "material = assignment(A, B)\n",
    "\n",
    "plt.figure(figsize=(12,8))\n",
    "material.draw_rotation_digraph(reverse=False, verbose=0, kwargs={'figsize': (8, 6)})\n",
    "pass"
   ]
  },
  {
   "cell_type": "markdown",
   "metadata": {},
   "source": [
    "## Performance\n",
    "\n",
    "### Typical solution space of randomly generated problems\n",
    "\n",
    "Asymmetrical problems, and problems with desk rejects, typically have few or no rotations."
   ]
  },
  {
   "cell_type": "code",
   "execution_count": null,
   "metadata": {},
   "outputs": [],
   "source": [
    "size = 200"
   ]
  },
  {
   "cell_type": "code",
   "execution_count": null,
   "metadata": {},
   "outputs": [],
   "source": [
    "#%%script false --no-raise-error\n",
    "np.random.seed(900)\n",
    "\n",
    "n = 30\n",
    "m = 35\n",
    "\n",
    "n_rotations_1d = []\n",
    "\n",
    "print(\"_\" * 50)\n",
    "\n",
    "for i in range(size):\n",
    "    if (i + 1) % (size / 50) == 0: print(\"=\", end=\"\")\n",
    "\n",
    "    A = [list(np.random.permutation(range(n)))[:np.random.randint(n/2, n)] for _ in range(m)]\n",
    "    B = [list(np.random.permutation(range(m)))[:np.random.randint(m/2, m)] for _ in range(n)] \n",
    "\n",
    "    material = assignment(A, B)\n",
    "    n_rotations_1d.append(len(material.rotate()[3]))\n",
    "    \n",
    "print()\n",
    "\n",
    "n_rotations_1d = np.array(n_rotations_1d)\n",
    "%store n_rotations_1d"
   ]
  },
  {
   "cell_type": "code",
   "execution_count": null,
   "metadata": {},
   "outputs": [],
   "source": [
    "counts = [(n_rotations_1d==i).sum() for i in range(n_rotations_1d.max())]\n",
    "\n",
    "plt.figure(figsize=(9, 6))\n",
    "plt.xlabel(\"number of rotations\")\n",
    "plt.title(r\"Number of rotations found in {} random $30 \\times 35$ assignment problems\".format(size))\n",
    "plt.bar(range(len(counts)), counts)\n",
    "pass"
   ]
  },
  {
   "cell_type": "markdown",
   "metadata": {},
   "source": [
    "Symmetrical problems tend to have a larger solution set."
   ]
  },
  {
   "cell_type": "code",
   "execution_count": 5,
   "metadata": {},
   "outputs": [],
   "source": [
    "size = 20\n",
    "maxn = 80"
   ]
  },
  {
   "cell_type": "code",
   "execution_count": 6,
   "metadata": {},
   "outputs": [
    {
     "name": "stdout",
     "output_type": "stream",
     "text": [
      "__________________________________________________\n",
      "\n",
      "Stored 'n_participants' (ndarray)\n",
      "Stored 'n_remaining' (ndarray)\n",
      "Stored 'n_edges' (list)\n",
      "Stored 'n_rotations' (ndarray)\n"
     ]
    }
   ],
   "source": [
    "#%%script false --no-raise-error\n",
    "np.random.seed(8585)\n",
    "\n",
    "n_participants = []\n",
    "n_remaining = []\n",
    "n_edges = []\n",
    "n_rotations = []\n",
    "\n",
    "print(\"_\" * 50)\n",
    "\n",
    "for i in range(size):\n",
    "    if (i + 1) % (size / 50) == 0: print(\"=\", end=\"\")\n",
    "\n",
    "    n_i = np.random.randint(3, maxn)\n",
    "\n",
    "    A = [list(np.random.permutation(range(n_i))) for _ in range(n_i)]\n",
    "    B = [list(np.random.permutation(range(n_i))) for _ in range(n_i)] \n",
    "\n",
    "    material = assignment(A, B)\n",
    "\n",
    "    n_participants.append(n_i)\n",
    "    n_remaining.append(sum([len(i) for i in material.GaleShapley()[1]]))\n",
    "    edges, rp = material.rotation_digraph()[:2]\n",
    "    n_edges.append(len(edges))\n",
    "    n_rotations.append(len(rp))\n",
    "\n",
    "print()\n",
    "\n",
    "n_participants = np.array(n_participants)\n",
    "n_remaining = np.array(n_remaining)\n",
    "n_rotations = np.array(n_rotations)\n",
    "\n",
    "%store n_participants\n",
    "%store n_remaining\n",
    "%store n_edges\n",
    "%store n_rotations"
   ]
  },
  {
   "cell_type": "code",
   "execution_count": 12,
   "metadata": {},
   "outputs": [
    {
     "name": "stdout",
     "output_type": "stream",
     "text": [
      "[-1.4736566   0.96507534]\n"
     ]
    },
    {
     "data": {
      "image/png": "[encoded data removed]",
      "text/plain": [
       "<Figure size 720x576 with 1 Axes>"
      ]
     },
     "metadata": {
      "needs_background": "light"
     },
     "output_type": "display_data"
    }
   ],
   "source": [
    "coef = np.linalg.lstsq(np.stack([n_participants, n_participants**2]).T,\n",
    "                       n_remaining, rcond=None)[0]\n",
    "print(coef)\n",
    "\n",
    "fig, ax = plt.subplots(figsize=(10,8))\n",
    "x_plot = np.arange(3, maxn)\n",
    "ax.plot(x_plot, coef @ [x_plot, x_plot**2], color=\"black\", ls=\"--\")\n",
    "ax.scatter(n_participants, n_remaining, marker=\".\", color=\"crimson\", alpha=.1, s=50, ec=None)\n",
    "ax.set_xlabel(\"number of participants in each group\")\n",
    "ax.set_ylabel(\"number of entries remaining in candidate preference lists\")\n",
    "ax.set_title(\"Pairs eliminated by Gale-Shapley algorithm in {} random assignment problems\".format(size))\n",
    "pass"
   ]
  },
  {
   "cell_type": "code",
   "execution_count": 8,
   "metadata": {},
   "outputs": [
    {
     "name": "stdout",
     "output_type": "stream",
     "text": [
      "[0.20581975]\n"
     ]
    },
    {
     "data": {
      "image/png": "[encoded data removed]",
      "text/plain": [
       "<Figure size 720x576 with 1 Axes>"
      ]
     },
     "metadata": {
      "needs_background": "light"
     },
     "output_type": "display_data"
    }
   ],
   "source": [
    "coef = np.linalg.lstsq(n_participants.reshape(-1,1),\n",
    "                        n_rotations, rcond=None)[0]\n",
    "print(coef)\n",
    "\n",
    "fig, ax = plt.subplots(figsize=(10,8))\n",
    "x_plot = np.arange(3, maxn)\n",
    "ax.plot(x_plot, coef * x_plot, color=\"black\", ls=\"--\")\n",
    "ax.scatter(n_participants, n_rotations, marker=\".\", color=\"cornflowerblue\", alpha=.1, s=50, ec=None)\n",
    "ax.set_xlabel(\"number of participants in each group\")\n",
    "ax.set_ylabel(\"number of rotations found in stable assignment set\")\n",
    "ax.set_title(\"Number of rotations found in {} random assignment problems\".format(size))\n",
    "pass"
   ]
  },
  {
   "cell_type": "code",
   "execution_count": 9,
   "metadata": {},
   "outputs": [
    {
     "name": "stdout",
     "output_type": "stream",
     "text": [
      "[ 0.2522466 -0.0011132]\n"
     ]
    },
    {
     "data": {
      "image/png": "[encoded data removed]",
      "text/plain": [
       "<Figure size 720x576 with 1 Axes>"
      ]
     },
     "metadata": {
      "needs_background": "light"
     },
     "output_type": "display_data"
    }
   ],
   "source": [
    "coef = np.linalg.lstsq(np.stack([n_participants, n_participants**2]).T,\n",
    "                        n_edges, rcond=None)[0]\n",
    "print(coef)\n",
    "\n",
    "fig, ax = plt.subplots(figsize=(10,8))\n",
    "x_plot = np.arange(3, maxn)\n",
    "ax.plot(x_plot, coef @ [x_plot, x_plot**2], color=\"black\", ls=\"--\")\n",
    "ax.scatter(n_participants, n_edges, marker=\".\", color=\"forestgreen\", alpha=.1, s=50, ec=None)\n",
    "ax.set_xlabel(\"number of participants in each group\")\n",
    "ax.set_ylabel(\"number of rotations found in stable assignment set\")\n",
    "ax.set_title(\"Number of edges found in {} random assignment problems\".format(size))\n",
    "pass"
   ]
  },
  {
   "cell_type": "markdown",
   "metadata": {},
   "source": [
    "### Comparison with na&iuml;ve LP formulation \n",
    "\n",
    "The optimal stable marriage problem can be formulated as an LP without ever considering the proposal algorithm. In a $n$-by-$n$ example, let $y_{ij} = 1$ if candidate $i$ is matched with reviewer $j$ and $y_{ij} = 0$ if not. Since each candidate can only be paired with one reviewer, and vice-versa, the sums over $i$ and over $j$ across each $y_{ij}$ must not exceed 1. For a given candidate $i$ and reviewer $j$, the absence of a blocking pair is equivalent to the statement that $y_{ij} + \\sum_k y_{k j} + \\sum_l y_{i l} \\geq 1$. These, taken with nonnegativity in $y$, form the stable marriage polytope. Since the stable marriage polytope is totally unimodular, the stable marriage can be found using this LP, which is easily generalized to the $n$-by-$m$ case (Baïou and  Balinski 2000):\n",
    "\n",
    "$$\n",
    "\\begin{align}\n",
    "\\min \\quad & \\sum (r_{ij}^{(C)} + r_{ji}^{(R)}) y_{ij} \\\\\n",
    "\\text{s.t.} \\quad & \\sum_{i=1}^n y_{ij} \\leq 1, & j = \\lbrace 1, \\dots, n \\rbrace \\\\\n",
    "& \\sum_{j=1}^n y_{ij} \\leq 1, & i = \\lbrace 1, \\dots, n \\rbrace \\\\\n",
    "& y_{ij} + \\sum_{k=1}^n y_{k j} + \\sum_{l=1}^n y_{i l} \\geq 1, & (i, j) \\in \\lbrace 1, \\dots, n \\rbrace  \\times \\lbrace 1, \\dots, n \\rbrace \\\\\n",
    "& y \\geq 0\n",
    "\\end{align}\n",
    "$$\n",
    "\n",
    "Here $r_{ij}^{(C)}$ and $r_{ji}^{(R)}$ indicate candidate $i$&rsquo;s ranking of reviewer $j$, and reviewer $j$&rsquo;s ranking of candidate $i$, respectively. \n",
    "\n",
    "This LP has $n^2$ decision variables and $n^2 + 2n$ constraint equations. \n",
    "\n",
    "Compare the constraint matrix from the rotation formulation:\n",
    "\n",
    "$$\n",
    "\\begin{align}\n",
    "\\max \\quad & c^T x \\\\\n",
    "\\text{s.t.} \\quad & x_j - x_i \\leq 0, & \\forall(i,j) \\in \\mathcal{A} \\\\\n",
    " & 0 \\leq x \\leq 1\n",
    "\\end{align}\n",
    "$$\n",
    "\n",
    "Here the number of decision variables equals the number of rotations in the stable assignment set, which is at most $\\lfloor \\frac{n}{2} \\rfloor (n-1)$, because a given layer can contain at most $\\lfloor \\frac{n}{2} \\rfloor$ rotations (each involving only two members), and there are at most $n-1$ depths in the rotation dependency graph. In practice, as we saw above, the number of rotations is $O(n)$, and I would like to show this mathematically.\n",
    "\n",
    "The number of constraint equations equals the number of edges, for which I have not yet calculated an upper bound, although the above results suggest it is $O(n^2)$. It is clear that knowing the rotation set for a given assignment problem is an invaluable aid in optimizing over the stable assignment set.\n",
    "\n",
    "## Extensions\n",
    "\n",
    "Irving et al. discuss the possibility of using an array of cost values associated with each pairing to create a continuous cost function. I plan to add this functionality soon, as this formulation of the optimal stable marriage problem is well-suited to situations in which many objective functions are to be compared over the same set of preference lists.\n",
    "\n",
    "However, my primary interest in the proposal algorithm is its generalization to the one-to-many and many-to-one assignment cases, especially in real-world applications like school choice and university admissions. Baïou and  Balinski (2000) showed that the set of stable many-to-one assignments (the stable admissions polytope) is polyhedral; however, the constraint functions are not as easy to determine as those in the one-to-one case, so the optimal stable admissions problem is considerably more complex than the optimal stable marriage problem. Nonetheless, I hope to add a one-to-many algorithm to this module eventually.\n",
    "\n",
    "In real-world applications, we often optimize for a combination of several competing objective functions, such as maximizing investment returns while minimizing risk. Bodoh-Creed (2020) developed a procedure for optimal school assignment that balances student preferences against broader distributional goals such as racial diversity. My understanding of Bodoh-Creed&rsquo;s algorithm is that it relies on modeling students&rsquo;s preferences according to a continuous probability distribution. While it outputs matches that are stable with respect to these stochastically modeled preferences, they may not be stable when examining the individual preference lists from which the preference statistics are derived. Since the stable admissions polytope is computationally tractable, I would like to find a way to incorporate arbitrary objective functions into a generalized rotation algorithm that allows for multiple assignment.\n",
    "\n",
    "## References\n",
    "\n",
    "Baïou, Mourad and Michel Balinski. 2000. &ldquo;The stable admissions polytope.&rdquo; *Mathematical Programming, Series A* 87: 427&ndash;39.\n",
    "\n",
    "Bodoh-Creed, Aaron L. 2020. &ldquo;Optimizing for Distributional Goals in School Choice Problems.&rdquo; *Management Science* 66, no. 8 (Sept.): 3657&ndash;76.\n",
    "\n",
    "Irving, Robert W., Paul Leather, and Dan Gusfield. 1987. &ldquo;An Efficient Algorithm for the &lsquo;Optimal&rsquo; Stable Marriage.&rdquo; *Journal of the Association for Computing Machinery* 34, no. 3 (July): 532&ndash;43."
   ]
  },
  {
   "cell_type": "code",
   "execution_count": 10,
   "metadata": {},
   "outputs": [
    {
     "name": "stderr",
     "output_type": "stream",
     "text": [
      "[NbConvertApp] Converting notebook discussion.ipynb to html\n",
      "[NbConvertApp] Writing 350896 bytes to discussion.html\n"
     ]
    }
   ],
   "source": [
    "!jupyter nbconvert --to html discussion.ipynb"
   ]
  }
 ],
 "metadata": {
  "kernelspec": {
   "display_name": "Python 3",
   "language": "python",
   "name": "python3"
  },
  "language_info": {
   "codemirror_mode": {
    "name": "ipython",
    "version": 3
   },
   "file_extension": ".py",
   "mimetype": "text/x-python",
   "name": "python",
   "nbconvert_exporter": "python",
   "pygments_lexer": "ipython3",
   "version": "3.7.3"
  }
 },
 "nbformat": 4,
 "nbformat_minor": 4
}
