{
 "cells": [
  {
   "cell_type": "markdown",
   "metadata": {},
   "source": [
    "# In search of the optimal stable marriage"
   ]
  },
  {
   "cell_type": "code",
   "execution_count": 1,
   "metadata": {},
   "outputs": [],
   "source": [
    "from assignment import *\n",
    "\n",
    "%store -r"
   ]
  },
  {
   "cell_type": "markdown",
   "metadata": {},
   "source": [
    "## Background\n",
    "### One-to-one assignment problems and stable assignment\n",
    "\n",
    "A one-to-one assignment problem involves a set of two groups, *candidates* and *reviewers,* each of whom has ranked the members of the other group on the basis of how much they would like to be paired together. An *assignment* is a set of pairs $a_k = (i_k, j_k)$ consisting of one candidate $i$ and one reviewer $j$ such that no candidate or reviewer is assigned to more than one partner.\n",
    "\n",
    "Our goal is to find an assignment that is mutually acceptable to both parties. In the classical formulation, the groups are *men* and *women* to be married, and we seek a *stable assignment,* meaning one in which no member of either group is incentivized to cheat on their partner. Such an incentive is provided when an assignment fails to include one or more *blocking pairs,* pairings that both parties prefer to the partner currently assigned to them.\n",
    "\n",
    "For example, in the following example, candidate 1&rsquo;s first choice is reviewer 1, while reviewer 1&rsquo;s second choice is candidate 1. If an assignment contains the pairs $(1, 2)$ and $(0, 1)$, then candidate 1 and reviewer 1 each prefer to be together than with their current assignment: $(1, 1)$ is a blocking pair, and the assignment is unstable."
   ]
  },
  {
   "cell_type": "code",
   "execution_count": 2,
   "metadata": {},
   "outputs": [
    {
     "data": {
      "text/plain": [
       "(<Figure size 432x288 with 2 Axes>,\n",
       " array([<AxesSubplot:title={'center':'Candidates'}>,\n",
       "        <AxesSubplot:title={'center':'Reviewers'}>], dtype=object))"
      ]
     },
     "execution_count": 2,
     "metadata": {},
     "output_type": "execute_result"
    },
    {
     "data": {
      "image/png": "[encoded data removed]",
      "text/plain": [
       "<Figure size 432x288 with 2 Axes>"
      ]
     },
     "metadata": {},
     "output_type": "display_data"
    }
   ],
   "source": [
    "candidates = [[1, 3, 0, 2], [1, 2, 3, 0], [0, 2, 3, 1], [0, 3, 1, 2]]\n",
    "reviewers = [[1, 0, 3, 2], [3, 1, 0, 2], [0, 1, 2, 3], [2, 3, 1, 0]]\n",
    "\n",
    "assn_inst = assignment(candidates, reviewers)\n",
    "viz_prefs(candidates, reviewers)"
   ]
  },
  {
   "cell_type": "markdown",
   "metadata": {},
   "source": [
    "### The proposal algorithm\n",
    "\n",
    "It can be shown that the Gale-Shapely, or *proposal,* algorithm produces a stable assignment. The algorithm works as follows:\n",
    "\n",
    "1. At the beginning of each round, each candidate proposes to the reviewer at the top of their list.\n",
    "2. The reviewers examine the proposals they received. If they received proposals from multiple candidates, they reject all but the one most favorable to them.\n",
    "3. The rejected candidates remove the reviewers who rejected them from their list.\n",
    "\n",
    "This procedure is repeated until no rejections occur; then the set of pairs $(i,j)$ where $j$ is the reviewer highest on $i$&rsquo;s reduced list forms a stable assignment.\n",
    "\n",
    "The proposal algorithm possesses several desirable properties. First, since at least one rejection occurs in every round, and no rejection can occur more than once, the algorithm is guaranteed to terminate in at most $n^2$ iterations ($nm$ when there are different numbers of candidates and reviewers).\n",
    "\n",
    "Second, the proposal algorithm can be used without modification when there are different numbers of candidates and reviewers. It can also be used unmodified if each candidate ranks only the subset of reviewers they find acceptable (or vice-versa), signifying that they would rather be assigned to no partner (remain celibate) than be assigned to one of the participants they omitted.\n",
    "\n",
    "With slight modifications to steps 1 and 2 above, the algorithm can also perform many-to-one or one-to-many assignment; however, the resultant assignments are not necessarily stable (Baïou and Balinski 2000).\n",
    "\n",
    "Let&rsquo;s apply the proposal algorithm to the example above."
   ]
  },
  {
   "cell_type": "code",
   "execution_count": 3,
   "metadata": {},
   "outputs": [
    {
     "name": "stdout",
     "output_type": "stream",
     "text": [
      "Reduced candidate lists:\n",
      "[[1, 3, 0, 2], [1, 2, 3, 0], [0, 2, 3, 1], [0, 3, 1, 2]]\n",
      "Results of round 0:\n",
      "  Candidate 2 proposed to reviewer 0\n",
      "  Candidate 3 proposed to reviewer 0\n",
      "    Reviewer 0 rejected candidate 2\n",
      "  Candidate 0 proposed to reviewer 1\n",
      "  Candidate 1 proposed to reviewer 1\n",
      "    Reviewer 1 rejected candidate 0\n",
      "Reduced candidate lists:\n",
      "[[3, 0, 2], [1, 2, 3, 0], [2, 3, 1], [0, 3, 1, 2]]\n",
      "Results of round 1:\n",
      "  Candidate 3 proposed to reviewer 0\n",
      "  Candidate 1 proposed to reviewer 1\n",
      "  Candidate 2 proposed to reviewer 2\n",
      "  Candidate 0 proposed to reviewer 3\n"
     ]
    },
    {
     "data": {
      "text/plain": [
       "([(0, 3), (1, 1), (2, 2), (3, 0)],\n",
       " [[3, 0, 2], [1, 2, 3, 0], [2, 3, 1], [0, 3, 1, 2]])"
      ]
     },
     "execution_count": 3,
     "metadata": {},
     "output_type": "execute_result"
    }
   ],
   "source": [
    "assn_inst.GaleShapley(verbose=True)"
   ]
  },
  {
   "cell_type": "markdown",
   "metadata": {},
   "source": [
    "This stable assignment contains the pairs $(0, 3), (1, 1), (2, 2),$ and $(3, 0)$. We can compute the *utility* of this assignment by adding the ranks associated with each pairing. Candidate 0 is paired with reviewer 3, who he has ranked 1 (in Python&rsquo;s zero-based indexing format). Reviewer 3 has ranked candidate 0 at the top of her list, rank 0. Thus the utility associated with the pair $(0,3)$ is $1+0 = 1$. Summing the utilities for each pair in the overall assignment yields the overall utility; lower is better, and if everyone is assigned to their &ldquo;perfect match,&rdquo; the overall utility is zero.\n",
    "\n",
    "In our example, the utility associated with candidate-optimal stable assignment is 10, and the utility associated with the reviewer-optimal stable assignment is also 10 (a coincidence)."
   ]
  },
  {
   "cell_type": "code",
   "execution_count": 4,
   "metadata": {},
   "outputs": [
    {
     "data": {
      "text/plain": [
       "(10, 10)"
      ]
     },
     "execution_count": 4,
     "metadata": {},
     "output_type": "execute_result"
    }
   ],
   "source": [
    "assn_inst.utility(), assn_inst.utility(reverse=True)"
   ]
  },
  {
   "cell_type": "markdown",
   "metadata": {},
   "source": [
    "## Exploring the set of stable assignments\n",
    "\n",
    "### Candidate- and reviewer-optimal assignments\n",
    "\n",
    "The proposal algorithm finds only one stable assignment, and it can be shown that the one it finds is *candidate optimal*&mdash;that is, any assignment that pairs a candidate with a reviewer ranked higher in their list than the candidate assigned by the proposal algorithm is an unstable assignment. Moreover, it can be shown that the candidate-optimal assignment is *reviewer pessimal:* if another stable assignment exists in the problem, it will provide more-preferable partners to some or all of the reviewers.\n",
    "\n",
    "A reviewer-optimal (and candidate-pessimal) assignment can be found by interchanging the roles of the candidates and reviewers and running the algorithm again, like so:"
   ]
  },
  {
   "cell_type": "code",
   "execution_count": 5,
   "metadata": {},
   "outputs": [
    {
     "name": "stdout",
     "output_type": "stream",
     "text": [
      "Reduced candidate lists:\n",
      "[[1, 0, 3, 2], [3, 1, 0, 2], [0, 1, 2, 3], [2, 3, 1, 0]]\n",
      "Results of round 0:\n",
      "  Candidate 2 proposed to reviewer 0\n",
      "  Candidate 0 proposed to reviewer 1\n",
      "  Candidate 3 proposed to reviewer 2\n",
      "  Candidate 1 proposed to reviewer 3\n"
     ]
    },
    {
     "data": {
      "text/plain": [
       "([(0, 1), (1, 3), (2, 0), (3, 2)],\n",
       " [[1, 0, 3, 2], [3, 1, 0, 2], [0, 1, 2, 3], [2, 3, 1, 0]])"
      ]
     },
     "execution_count": 5,
     "metadata": {},
     "output_type": "execute_result"
    }
   ],
   "source": [
    "assn_inst.GaleShapley(reverse=True, verbose=True)"
   ]
  },
  {
   "cell_type": "markdown",
   "metadata": {},
   "source": [
    "### The rotation algorithm\n",
    "\n",
    "Some assignment problems admit only one stable assignment, in which case the proposal algorithm yields the same results when reversed. However, this particular assignment problem contains distinct candidate- and reviewer-optimal solutions, along with two *additional* stable solutions, which we can find using the *rotation algorithm* (Irving et al. 1987). \n",
    "\n",
    "The rotation algorithm begins by taking the reduced preference lists produced by the (candidate-led) proposal algorithm, and applying the observation that these preferences are reviewer pessimal to produce (candidate-oriented) *shortlists.* From each reviewer&rsquo;s perspective, the candidate assigned by the proposal algorithm is the worst they should ever have to settle for; thus, we can cross off any candidates from the reviewers&rsquo; lists who are worse than their proposal assignment. Likewise, we can remove those reviewers where they appear in the lists of the candidates they cross off.\n",
    "\n",
    "The shortlists for our example are as follows. Notice that both the candidates&rsquo; and reviewers&rsquo; lists are reduced."
   ]
  },
  {
   "cell_type": "code",
   "execution_count": 6,
   "metadata": {},
   "outputs": [
    {
     "data": {
      "text/plain": [
       "([[3, 0, 2], [1, 2, 3, 0], [2, 3], [0, 3, 1]],\n",
       " [[1, 0, 3], [3, 1], [0, 1, 2], [2, 3, 1, 0]])"
      ]
     },
     "execution_count": 6,
     "metadata": {},
     "output_type": "execute_result"
    }
   ],
   "source": [
    "assn_inst.shortlists()"
   ]
  },
  {
   "cell_type": "code",
   "execution_count": 7,
   "metadata": {},
   "outputs": [
    {
     "data": {
      "text/plain": [
       "([[1, 3, 0, 2], [1, 2, 3, 0], [0, 2, 3, 1], [0, 3, 1, 2]],\n",
       " [[1, 0, 3, 2], [3, 1, 0, 2], [0, 1, 2, 3], [2, 3, 1, 0]])"
      ]
     },
     "execution_count": 7,
     "metadata": {},
     "output_type": "execute_result"
    }
   ],
   "source": [
    "candidates, reviewers"
   ]
  },
  {
   "cell_type": "markdown",
   "metadata": {},
   "source": [
    "Let&rsquo;s examine the shortlists corresponding to candidates 0 and 3. 0&rsquo;s list is $[3,0,2]$ and 1&rsquo;s list is $[0,3,1]$. If we reassign candidate 0 to reviewer 0, and candidate 3 to reviewer 3, we can produce a new assignment. And this new assignment remains stable, because reviewer 0 prefers candidate 0 to candidate 3, and reviewer 3 prefers candidate 3 to candidate 0 (or else we crossed those candidates off when we created the shortlists). Thus, candidates 0 and 3 are members of a *rotation,* and when we *eliminate* that rotation by performing the reassignment described above, we produce a new stable assignment that is marginally more appealing to the reviewers and marginally less appealing to the candidates.\n",
    "\n",
    "The net marginal utility is relatively easy to calculate: add the differences in ranks between the members of the rotation before and after elimination. Here, reassigning candidate 0 to reviewer 0 changes candidate 0&rsquo;s utility from 1 to 2, and reviewer 0&rsquos; utility from 2 to 1. Reassigning candidate 3 to reviewer 3 changes candidate 3&rsquo;s utility from 0 to 1, and reviewer 3&rsquo;s utility from 3 to 1. The net decrease in utility, or the *weight* of the rotation, is\n",
    "\n",
    "$$-\\left[(2-1)+(1-2)+(1-0)+(1-3)\\right] = 1$$\n",
    "\n",
    "and the total utility of the assignment after eliminating this rotation decreases from 10 to 9.\n",
    "\n",
    "After searching for rotations in this set of shortlists, we can eliminate all the rotations we find and produce a new set of shortlists. It may contain yet further rotations. We continue searching and eliminating until no rotations remain; at the end of this process, we arrive at the candidate-pessimal assignment, which is identical to the assignment produced by running the proposal algorithm in reverse."
   ]
  },
  {
   "cell_type": "code",
   "execution_count": 8,
   "metadata": {},
   "outputs": [
    {
     "name": "stdout",
     "output_type": "stream",
     "text": [
      "Generating shortlists\n",
      "Reduced candidate lists:\n",
      "[[1, 3, 0, 2], [1, 2, 3, 0], [0, 2, 3, 1], [0, 3, 1, 2]]\n",
      "Results of round 0:\n",
      "  Candidate 2 proposed to reviewer 0\n",
      "  Candidate 3 proposed to reviewer 0\n",
      "    Reviewer 0 rejected candidate 2\n",
      "  Candidate 0 proposed to reviewer 1\n",
      "  Candidate 1 proposed to reviewer 1\n",
      "    Reviewer 1 rejected candidate 0\n",
      "Reduced candidate lists:\n",
      "[[3, 0, 2], [1, 2, 3, 0], [2, 3, 1], [0, 3, 1, 2]]\n",
      "Results of round 1:\n",
      "  Candidate 3 proposed to reviewer 0\n",
      "  Candidate 1 proposed to reviewer 1\n",
      "  Candidate 2 proposed to reviewer 2\n",
      "  Candidate 0 proposed to reviewer 3\n",
      "\n",
      "Finding rotations\n",
      "C0's second choice is R0, currently matched with C3\n",
      "C3's second choice is R3, currently matched with C0\n",
      "  Found a rotation involving candidates [0, 3]\n",
      "C1's second choice is R2, currently matched with C2\n",
      "C2's second choice is R3, currently matched with C0\n",
      "\n",
      "Eliminating rotations\n",
      "  Eliminating rotation [0, 3], weight 1\n",
      "\n",
      "Shortlists after eliminating rotations at depth 0\n",
      "[[0, 2], [1, 2, 0], [2, 3], [3, 1]]\n",
      "[[1, 0], [3, 1], [0, 1, 2], [2, 3]]\n",
      "\n",
      "Finding rotations\n",
      "C0's second choice is R2, currently matched with C2\n",
      "C2's second choice is R3, currently matched with C3\n",
      "C3's second choice is R1, currently matched with C1\n",
      "C1's second choice is R2, currently matched with C2\n",
      "  Found a rotation involving candidates [2, 3, 1]\n",
      "\n",
      "Eliminating rotations\n",
      "  Eliminating rotation [2, 3, 1], weight 0\n",
      "\n",
      "Shortlists after eliminating rotations at depth 1\n",
      "[[0, 2], [2, 0], [3], [1]]\n",
      "[[1, 0], [3], [0, 1], [2]]\n",
      "\n",
      "Finding rotations\n",
      "C0's second choice is R2, currently matched with C1\n",
      "C1's second choice is R0, currently matched with C0\n",
      "  Found a rotation involving candidates [0, 1]\n",
      "\n",
      "Eliminating rotations\n",
      "  Eliminating rotation [0, 1], weight -1\n",
      "\n",
      "Shortlists after eliminating rotations at depth 2\n",
      "[[2], [0], [3], [1]]\n",
      "[[1], [3], [0], [2]]\n",
      "\n",
      "Finding rotations\n"
     ]
    },
    {
     "data": {
      "text/plain": [
       "([[(0, 3), (3, 0)], [(2, 2), (3, 3), (1, 1)], [(0, 0), (1, 2)]],\n",
       " [[(3, 0), (0, 3), (1, 3)], [(3, 3), (1, 1), (2, 2)], [(1, 2), (0, 0)]],\n",
       " [1, 0, -1],\n",
       " [0, 1, 2])"
      ]
     },
     "execution_count": 8,
     "metadata": {},
     "output_type": "execute_result"
    }
   ],
   "source": [
    "assn_inst.rotate(verbose=True)"
   ]
  },
  {
   "cell_type": "markdown",
   "metadata": {},
   "source": [
    "Not every combination of rotations corresponds to a stable assignment, as some rotations depend on others. We can represent the rotation dependencies using a directed graph. By using this graph to traverse the set of stable assignments, we can model the optimal stable assignment as a maximum-flow problem or linear program.\n",
    "\n",
    "In our example, the dependencies among the rotations are as follows. Each node corresponds to a rotation, and its label indicates its weight. "
   ]
  },
  {
   "cell_type": "code",
   "execution_count": 9,
   "metadata": {},
   "outputs": [
    {
     "data": {
      "text/plain": [
       "<networkx.classes.digraph.DiGraph at 0x2cd2d8c50d0>"
      ]
     },
     "execution_count": 9,
     "metadata": {},
     "output_type": "execute_result"
    },
    {
     "data": {
      "image/png": "[encoded data removed]",
      "text/plain": [
       "<Figure size 432x288 with 1 Axes>"
      ]
     },
     "metadata": {},
     "output_type": "display_data"
    }
   ],
   "source": [
    "assn_inst.draw_rotation_digraph(augment=False, opt=False)"
   ]
  },
  {
   "cell_type": "markdown",
   "metadata": {},
   "source": [
    "One solution method for the optimal stable assignment works by augmenting the rotation dependency graph and applying a maximum-flow procedure (Irving et al. 1987). However, this method requires adding additional edges for each of the nonzero rotations, which yields an $O(n^2)$ increase in computation time. Further, Irving et al.&rsquo;s augmentation method sometimes produces graphs with no feasible paths even when the candidate-optimal solution is inoptimal overall; our example happens to be one such degenerate case. \n",
    "\n",
    "## Solution via linear programming\n",
    "\n",
    "I approach solving for the optimal stable assignment as a simple linear programming (LP) problem rather than using the maximum-flow procedure.\n",
    "\n",
    "Let $x_i \\in \\lbrace 0, 1 \\rbrace$ indicate whether rotation $i$ is included in the solution. We seek to maximize the total weight of the rotations we include, namely $1 x_0 + 0 x_1 - 1 x_2$.\n",
    "\n",
    "By inspecting the directed graph above, we can see that if rotation 2 (on the right) is included, so must rotation 1, and by transitivity rotation 1. This can be expressed by the inequalites $x_2 - x_1 \\leq 0$ and $x_1-x_0 \\leq 0$.\n",
    "\n",
    "In general, the LP is formulated as follows.\n",
    "\n",
    "$$\n",
    "\\begin{align}\n",
    "\\max \\quad & c^T x \\\\\n",
    "\\text{s.t.} \\quad & x_j - x_i \\leq 0, & \\forall(i,j) \\in \\mathcal{A} \\\\\n",
    " & 0 \\leq x \\leq 1\n",
    "\\end{align}\n",
    "$$\n",
    "\n",
    "Here $c$ is the vector of rotation weights and $\\mathcal{A}$ is the set of directed edges in the rotation graph. Specifying these bounds on $x$ is sufficient to guarantee an integral solution because the constraint matrix in this problem is [totally unimodular](https://en.wikipedia.org/wiki/Unimodular_matrix#Total_unimodularity).\n",
    "\n",
    "Running a standard LP solver on this example yields $x = (1, 0, 0)$, with a 1-unit improvement in utility compared to the candidate-optimal solution."
   ]
  },
  {
   "cell_type": "code",
   "execution_count": 10,
   "metadata": {},
   "outputs": [
    {
     "data": {
      "text/plain": [
       "     con: array([], dtype=float64)\n",
       "     fun: -1.0\n",
       " message: 'Optimization terminated successfully.'\n",
       "     nit: 7\n",
       "   slack: array([1., 0.])\n",
       "  status: 0\n",
       " success: True\n",
       "       x: array([1., 0., 0.])"
      ]
     },
     "execution_count": 10,
     "metadata": {},
     "output_type": "execute_result"
    }
   ],
   "source": [
    "assn_inst.osa()"
   ]
  },
  {
   "cell_type": "markdown",
   "metadata": {},
   "source": [
    "## References\n",
    "\n",
    "Baïou, Mourad and Michel Balinski. 2000. &ldquo;The stable admissions polytope.&rdquo; *Mathematical Programming, Series A* 87: 427&ndash;39.\n",
    "\n",
    "Bodoh-Creed, Aaron L. 2020. &ldquo;Optimizing for Distributional Goals in School Choice Problems.&rdquo; *Management Science* 66, no. 8 (Sept.): 3657&ndash;76.\n",
    "\n",
    "Irving, Robert W., Paul Leather, and Dan Gusfield. 1987. &ldquo;An Efficient Algorithm for the &lsquo;Optimal&rsquo; Stable Marriage.&rdquo; *Journal of the Association for Computing Machinery* 34, no. 3 (July): 532&ndash;43."
   ]
  },
  {
   "cell_type": "code",
   "execution_count": 15,
   "metadata": {},
   "outputs": [
    {
     "name": "stderr",
     "output_type": "stream",
     "text": [
      "[NbConvertApp] Converting notebook discussion.ipynb to html\n",
      "[NbConvertApp] Writing 617251 bytes to discussion.html\n"
     ]
    }
   ],
   "source": [
    "!jupyter nbconvert --to html discussion.ipynb"
   ]
  }
 ],
 "metadata": {
  "kernelspec": {
   "display_name": "Python 3",
   "language": "python",
   "name": "python3"
  },
  "language_info": {
   "codemirror_mode": {
    "name": "ipython",
    "version": 3
   },
   "file_extension": ".py",
   "mimetype": "text/x-python",
   "name": "python",
   "nbconvert_exporter": "python",
   "pygments_lexer": "ipython3",
   "version": "3.8.3"
  }
 },
 "nbformat": 4,
 "nbformat_minor": 4
}
